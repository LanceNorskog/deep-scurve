{
  "nbformat": 4,
  "nbformat_minor": 0,
  "metadata": {
    "colab": {
      "name": "Hilbert Mapping Introduction.ipynb",
      "provenance": [],
      "collapsed_sections": [],
      "toc_visible": true
    },
    "kernelspec": {
      "name": "python3",
      "display_name": "Python 3"
    }
  },
  "cells": [
    {
      "cell_type": "code",
      "metadata": {
        "id": "vTbcfJ3Bgl9B",
        "colab_type": "code",
        "cellView": "code",
        "outputId": "c690044e-2edc-4078-cbcf-5b9df1d48c50",
        "colab": {
          "base_uri": "https://localhost:8080/",
          "height": 52
        }
      },
      "source": [
        "\n",
        "# https://github.com/galtay/hilbertcurve\n",
        "!pip install -q hilbertcurve\n",
        "from hilbertcurve.hilbertcurve import HilbertCurve\n",
        "import numpy as np\n",
        "import matplotlib.pyplot as plt\n",
        "plt.rcParams['font.family'] = \"serif\"\n",
        "plt.set_cmap('tab20b')\n",
        "plt.rcParams['figure.dpi'] = 100\n",
        "import seaborn as sns\n",
        "from math import radians"
      ],
      "execution_count": 2,
      "outputs": [
        {
          "output_type": "stream",
          "text": [
            "  Building wheel for hilbertcurve (setup.py) ... \u001b[?25l\u001b[?25hdone\n"
          ],
          "name": "stdout"
        },
        {
          "output_type": "display_data",
          "data": {
            "text/plain": [
              "<Figure size 432x288 with 0 Axes>"
            ]
          },
          "metadata": {
            "tags": []
          }
        }
      ]
    },
    {
      "cell_type": "markdown",
      "metadata": {
        "id": "QCfPDoFWfXxa",
        "colab_type": "text"
      },
      "source": [
        "# Hilbert Space-Filling Curves\n"
      ]
    },
    {
      "cell_type": "code",
      "metadata": {
        "id": "KvAKohoBhq6V",
        "colab_type": "code",
        "cellView": "code",
        "colab": {}
      },
      "source": [
        "#@title\n",
        "side = 4\n",
        "hilbert_curve = HilbertCurve(side, 2)\n",
        "forward_mapper = np.zeros((side * side), dtype='int32')\n",
        "reverse_mapper = np.zeros((side * side), dtype='int32')\n",
        "\n",
        "for ii in range(side*side):\n",
        "    coords = hilbert_curve.coordinates_from_distance(ii)\n",
        "    forward_mapper[ii] = coords[0]*side + coords[1]\n",
        "    reverse_mapper[coords[0]*side + coords[1]] = ii"
      ],
      "execution_count": 0,
      "outputs": []
    },
    {
      "cell_type": "code",
      "metadata": {
        "id": "A4MXmitChQHE",
        "colab_type": "code",
        "cellView": "code",
        "colab": {}
      },
      "source": [
        "#@title\n",
        "ints_mat = np.reshape(np.arange(side * side, dtype='int32'), (side, side))\n",
        "ints_line = np.reshape(np.arange(side * side, dtype='int32'), (1, side * side))\n",
        "ints_mapped_mat = np.reshape(reverse_mapper, (side, side))\n",
        "ints_mapped_line = np.reshape(reverse_mapper, (1, side * side))\n"
      ],
      "execution_count": 0,
      "outputs": []
    },
    {
      "cell_type": "markdown",
      "metadata": {
        "id": "AHujRMfsv2Jt",
        "colab_type": "text"
      },
      "source": [
        "A space-filling curve is a path through a grid which covers the entire grid, and only touches each square once. There are various types of such paths. The Hilbert space-filling curve is one of a family of such paths. Unlike some space-filling curves, the Hilbert curve is self-similar (fractal).\n",
        "\n",
        "![Basic space-filling curve](https://www.bic.mni.mcgill.ca/~mallar/CS-644B/hilbert.gif)\n",
        "\n",
        "[Good basic explanation of Hilbert space-filling curves](http://www.bic.mni.mcgill.ca/~mallar/CS-644B/hilbert.html)\n",
        "\n",
        "[Dive into the deep end at Wikipedia](https://en.wikipedia.org/wiki/Hilbert_curve)\n",
        "\n"
      ]
    },
    {
      "cell_type": "markdown",
      "metadata": {
        "id": "PaAgiknghNtP",
        "colab_type": "text"
      },
      "source": [
        "This notebook walks through how to use the Hilbert space-filling curve to transform a matrix into another matrix. This transformation has interesting properties for analyzing multi-dimensional data.\n"
      ]
    },
    {
      "cell_type": "markdown",
      "metadata": {
        "id": "kQxWWWExgz4m",
        "colab_type": "text"
      },
      "source": [
        "# Shuffling a Matrix with the Hilbert Space-Filling Curve"
      ]
    },
    {
      "cell_type": "markdown",
      "metadata": {
        "id": "E4YSzaCbfykR",
        "colab_type": "text"
      },
      "source": [
        "We can rearrange a square matrix using the Hilbert space-filling curve.\n",
        "The output matrix will have all but one of the squares in a new position, and each cell's value exists in the target matrix. Squares are not deleted or copied. (This is a one-to-one or *bijective* function.)\n",
        "\n",
        "The following grids show how cells are numbered in a Hilbert path through a 4x4 grid. The left grid shows the conventional computer memory-based addressing. The right grid shows the path through the grid in cell order."
      ]
    },
    {
      "cell_type": "code",
      "metadata": {
        "id": "Lyv6dS1xhBhA",
        "colab_type": "code",
        "cellView": "code",
        "outputId": "48bd5fc8-27e1-42a2-8606-0469b98f3a44",
        "colab": {
          "base_uri": "https://localhost:8080/",
          "height": 269
        }
      },
      "source": [
        "#@title\n",
        "fig, (ax1, ax2) = plt.subplots(1, 2)\n",
        "ax1.set_title('Linear order')\n",
        "ax2.set_title('Hilbert order')\n",
        "sns.heatmap(ints_mat, ax=ax1, square=True, cbar=False, annot=ints_mat, xticklabels=False, yticklabels=False, linewidths=0.01, linecolor='white')\n",
        "sns.heatmap(ints_mapped_mat, ax=ax2, square=True, cbar=False, annot=ints_mapped_mat, xticklabels=False, yticklabels=False, linewidths=0.01, linecolor='white')\n",
        "plt.show()"
      ],
      "execution_count": 5,
      "outputs": [
        {
          "output_type": "display_data",
          "data": {
            "image/png": "[encoded data removed]",
            "text/plain": [
              "<Figure size 600x400 with 2 Axes>"
            ]
          },
          "metadata": {
            "tags": []
          }
        }
      ]
    },
    {
      "cell_type": "markdown",
      "metadata": {
        "id": "0NQgGIthl0iu",
        "colab_type": "text"
      },
      "source": [
        "We start with the matrix in linear order..."
      ]
    },
    {
      "cell_type": "code",
      "metadata": {
        "id": "JktgCRm2hR1a",
        "colab_type": "code",
        "cellView": "code",
        "outputId": "908cf7c2-2fb2-4025-fafe-7a1f0e0a2c99",
        "colab": {
          "base_uri": "https://localhost:8080/",
          "height": 339
        }
      },
      "source": [
        "#@title\n",
        "fig, ax1 = plt.subplots(1, 1)\n",
        "sns.heatmap(ints_mat, ax=ax1, square=True, cbar=False, annot=ints_mat, xticklabels=False, yticklabels=False, linewidths=0.01, linecolor='white')\n",
        "plt.show()"
      ],
      "execution_count": 6,
      "outputs": [
        {
          "output_type": "display_data",
          "data": {
            "image/png": "[encoded data removed]",
            "text/plain": [
              "<Figure size 600x400 with 1 Axes>"
            ]
          },
          "metadata": {
            "tags": []
          }
        }
      ]
    },
    {
      "cell_type": "markdown",
      "metadata": {
        "id": "DB-ugXN0nrbT",
        "colab_type": "text"
      },
      "source": [
        "... unrolls it into a 16-cell vector ..."
      ]
    },
    {
      "cell_type": "code",
      "metadata": {
        "id": "Iohj8BVFiPj6",
        "colab_type": "code",
        "outputId": "59453567-e46b-48cb-ac7e-eb913b91170e",
        "cellView": "code",
        "colab": {
          "base_uri": "https://localhost:8080/",
          "height": 66
        }
      },
      "source": [
        "#@title\n",
        "fig, ax1 = plt.subplots(1, 1)\n",
        "sns.heatmap(ints_line, ax=ax1, square=True, cbar=False, annot=ints_line, xticklabels=False, yticklabels=False, linewidths=0.01, linecolor='white')\n",
        "plt.show()"
      ],
      "execution_count": 7,
      "outputs": [
        {
          "output_type": "display_data",
          "data": {
            "image/png": "[encoded data removed]",
            "text/plain": [
              "<Figure size 600x400 with 1 Axes>"
            ]
          },
          "metadata": {
            "tags": []
          }
        }
      ]
    },
    {
      "cell_type": "markdown",
      "metadata": {
        "id": "NkJzCd6CoBSL",
        "colab_type": "text"
      },
      "source": [
        "... shuffles the contents of each cell to its place along the Hilbert curve..."
      ]
    },
    {
      "cell_type": "code",
      "metadata": {
        "id": "KBbuRuZalNQ_",
        "colab_type": "code",
        "outputId": "5a306d1a-c3e2-432c-edf1-039650768664",
        "cellView": "code",
        "colab": {
          "base_uri": "https://localhost:8080/",
          "height": 66
        }
      },
      "source": [
        "#@title\n",
        "fig, ax1 = plt.subplots(1, 1)\n",
        "sns.heatmap(ints_mapped_line, ax=ax1, square=True, cbar=False, annot=ints_mapped_line, xticklabels=False, yticklabels=False, linewidths=0.01, linecolor='white')\n",
        "plt.show()"
      ],
      "execution_count": 8,
      "outputs": [
        {
          "output_type": "display_data",
          "data": {
            "image/png": "[encoded data removed]",
            "text/plain": [
              "<Figure size 600x400 with 1 Axes>"
            ]
          },
          "metadata": {
            "tags": []
          }
        }
      ]
    },
    {
      "cell_type": "markdown",
      "metadata": {
        "id": "7zOUl_kqoNXi",
        "colab_type": "text"
      },
      "source": [
        "... then reshapes the resulting vector back into a matrix."
      ]
    },
    {
      "cell_type": "code",
      "metadata": {
        "id": "OfGxIvDElN4S",
        "colab_type": "code",
        "outputId": "96954a0a-6c38-43e5-cbef-b2e56033484c",
        "cellView": "code",
        "colab": {
          "base_uri": "https://localhost:8080/",
          "height": 339
        }
      },
      "source": [
        "#@title\n",
        "fig, ax1 = plt.subplots(1, 1)\n",
        "sns.heatmap(ints_mapped_mat, ax=ax1, square=True, cbar=False, annot=ints_mapped_mat, xticklabels=False, yticklabels=False, linewidths=0.01, linecolor='white')\n",
        "plt.show()"
      ],
      "execution_count": 9,
      "outputs": [
        {
          "output_type": "display_data",
          "data": {
            "image/png": "[encoded data removed]",
            "text/plain": [
              "<Figure size 600x400 with 1 Axes>"
            ]
          },
          "metadata": {
            "tags": []
          }
        }
      ]
    },
    {
      "cell_type": "markdown",
      "metadata": {
        "id": "fUCFK1dM3vm0",
        "colab_type": "text"
      },
      "source": [
        "In image-processing terms, this could be called the *Hilbert Shuffle*, the *Space-filling curve shuffle*, or (my favorite) the *Fractal Scramble*. Hilbert shape-filling curves are defined for all finite dimensions, and thus this shuffling operation can be applied to image, 3D voxel data, and any other (hyper-)cubic tensor.\n",
        "\n",
        "It has been used to map 1-dimensional DNA data into square and cubic tensors. Neighboring genes combine to code for proteins but in a statistically messy way. (Oddly, this is the only published application of the Hilbert Shuffle to Deep Learning that I have found!)\n",
        "\n",
        "[CNN Model With Hilbert Curve Representation of DNA Sequence For Enhancer Prediction, (Samsung Research, Bangladesh)](https://www.biorxiv.org/content/biorxiv/early/2019/02/27/552141.full.pdf)"
      ]
    },
    {
      "cell_type": "markdown",
      "metadata": {
        "id": "c_LkqkgFQTyO",
        "colab_type": "text"
      },
      "source": [
        "### Fractal Nature of the Hilbert Space-filling Curve"
      ]
    },
    {
      "cell_type": "markdown",
      "metadata": {
        "id": "zjKVyD30O0KP",
        "colab_type": "text"
      },
      "source": [
        "Next, we're going to give each row a uniform color.\n",
        "Note that the rows are now assigned to quadrants. This is because the matrix transform rearranged the cells into square groupings. This illustrates the fact that the Hilbert path is *self-similar*: this square target is replicated at every power of 2."
      ]
    },
    {
      "cell_type": "code",
      "metadata": {
        "id": "2IDQ6WEJOr0L",
        "colab_type": "code",
        "colab": {
          "base_uri": "https://localhost:8080/",
          "height": 269
        },
        "outputId": "1bf0f8e1-4490-4e31-ecb8-ffcdf4c28050"
      },
      "source": [
        "#@title\n",
        "fig, (ax1, ax2) = plt.subplots(1, 2)\n",
        "ax1.set_title('Linear order')\n",
        "ax2.set_title('Hilbert order')\n",
        "rows = np.zeros((side * side))\n",
        "for x in range(side):\n",
        "    rows[x * side: (x * side)+side] = x/side\n",
        "fill = rows[reverse_mapper]\n",
        "sns.heatmap(np.reshape(rows, (side, side)), ax=ax1, square=True, cbar=False, annot=ints_mat, xticklabels=False, yticklabels=False, linewidths=0.01, linecolor='white')\n",
        "sns.heatmap(np.reshape(fill, (side, side)), ax=ax2, square=True, cbar=False, annot=ints_mapped_mat, xticklabels=False, yticklabels=False, linewidths=0.01, linecolor='white')\n",
        "plt.show()"
      ],
      "execution_count": 20,
      "outputs": [
        {
          "output_type": "display_data",
          "data": {
            "image/png": "[encoded data removed]",
            "text/plain": [
              "<Figure size 600x400 with 2 Axes>"
            ]
          },
          "metadata": {
            "tags": []
          }
        }
      ]
    },
    {
      "cell_type": "markdown",
      "metadata": {
        "id": "xB9UF4yloeAL",
        "colab_type": "text"
      },
      "source": [
        "# Hilbert Mapping as a Matrix Function"
      ]
    },
    {
      "cell_type": "markdown",
      "metadata": {
        "id": "v6U7llXhopiC",
        "colab_type": "text"
      },
      "source": [
        "The Hilbert mapping can be directly expressed as a function on the unwrapped line in Step 2. Recall from basic linear algebra that the identity matrix is called this because it is the identity function on a vector.\n"
      ]
    },
    {
      "cell_type": "markdown",
      "metadata": {
        "id": "5lTTJi04lqs7",
        "colab_type": "text"
      },
      "source": [
        "$$\n",
        "\\begin{pmatrix} x \\\\ y \\\\ z \\end{pmatrix} * \n",
        "\\begin{pmatrix} \n",
        "1&0&0 \\\\\n",
        "0&1&0 \\\\\n",
        "0&0&1\n",
        "\\end{pmatrix}\n",
        "=\n",
        "\\begin{pmatrix} \n",
        "x*1&+&y*0&+&z*0 \\\\\n",
        "x*0&+&y*1&+&z*0 \\\\\n",
        "x*0&+&y*0&+&z*1 \\\\\n",
        "\\end{pmatrix}\n",
        "=\n",
        "\\begin{pmatrix} x \\\\ y \\\\ z \\end{pmatrix}\n",
        "$$"
      ]
    },
    {
      "cell_type": "markdown",
      "metadata": {
        "id": "yUpdf5lcqyep",
        "colab_type": "text"
      },
      "source": [
        "The Hilbert mapping function, as a matrix, looks like the identity function shown above, except that the 1's are rearranged. (Given that this matrix has to turn a 16-cell vector into another 16-cell vector, it has to be a 16x16 matrix.)"
      ]
    },
    {
      "cell_type": "code",
      "metadata": {
        "id": "EDgFrnBhpQuZ",
        "colab_type": "code",
        "outputId": "3c05ad0f-fd48-4c2c-e7c1-de2d578dba4c",
        "cellView": "code",
        "colab": {
          "base_uri": "https://localhost:8080/",
          "height": 269
        }
      },
      "source": [
        "#@title\n",
        "fig, (ax1, ax2) = plt.subplots(1, 2)\n",
        "ax1.set_title('Identity Mapping')\n",
        "ax2.set_title('Hilbert Mapping')\n",
        "\n",
        "mapping_side = side*side\n",
        "ident_mapping = np.zeros((mapping_side, mapping_side))\n",
        "hilbert_mapping = np.zeros((mapping_side, mapping_side))\n",
        "\n",
        "for x in range(side):\n",
        "    for y in range(side):\n",
        "        ident_mapping[x * side + y][x * side + y] = 1\n",
        "        hilbert_mapping[x * side + y][reverse_mapper[x * side + y]] = 1\n",
        "\n",
        "sns.heatmap(ident_mapping, ax=ax1, square=True, cbar=False,  xticklabels=False, yticklabels=False, linewidths=0.01, linecolor='white')\n",
        "sns.heatmap(hilbert_mapping, ax=ax2, square=True, cbar=False, xticklabels=False, yticklabels=False, linewidths=0.01, linecolor='white')\n",
        "\n",
        "plt.show()\n"
      ],
      "execution_count": 10,
      "outputs": [
        {
          "output_type": "display_data",
          "data": {
            "image/png": "[encoded data removed]",
            "text/plain": [
              "<Figure size 600x400 with 2 Axes>"
            ]
          },
          "metadata": {
            "tags": []
          }
        }
      ]
    },
    {
      "cell_type": "markdown",
      "metadata": {
        "id": "cpSEX-ha0huY",
        "colab_type": "text"
      },
      "source": [
        "Multiplying a 16-vector by the above Hilbert mapping function gives the rearranged 16-vector:"
      ]
    },
    {
      "cell_type": "code",
      "metadata": {
        "id": "Z6SM2GLx1R-P",
        "colab_type": "code",
        "cellView": "code",
        "colab": {}
      },
      "source": [
        "#@title\n",
        "sample_data = np.arange(mapping_side)\n",
        "sample_data_vec = np.reshape(sample_data, (1, mapping_side))\n",
        "sample_data_sq = np.reshape(sample_data, (side,side))\n",
        "\n",
        "hilbert_mapped = np.dot(hilbert_mapping, sample_data)\n",
        "hilbert_mapped_vec = np.reshape(hilbert_mapped, (1, mapping_side))\n",
        "hilbert_mapped_sq = np.reshape(hilbert_mapped, (side,side))"
      ],
      "execution_count": 0,
      "outputs": []
    },
    {
      "cell_type": "code",
      "metadata": {
        "id": "s7gT-71Fso8E",
        "colab_type": "code",
        "outputId": "d48477d1-829c-4eaa-8180-700c2bc1a5a5",
        "cellView": "code",
        "colab": {
          "base_uri": "https://localhost:8080/",
          "height": 269
        }
      },
      "source": [
        "#@title\n",
        "fig, (ax1, ax2) = plt.subplots(1, 2)\n",
        "ax1.set_title('Original ...')\n",
        "ax2.set_title('... Unwrapped ...')\n",
        "\n",
        "\n",
        "sns.heatmap(sample_data_sq, ax=ax1, square=True, cbar=False, annot=sample_data_sq, xticklabels=False, yticklabels=False, linewidths=0.01, linecolor='white')\n",
        "sns.heatmap(sample_data_vec, ax=ax2, square=True, cbar=False, xticklabels=False, yticklabels=False, linewidths=0.01, linecolor='white')\n",
        "\n",
        "plt.show()"
      ],
      "execution_count": 12,
      "outputs": [
        {
          "output_type": "display_data",
          "data": {
            "image/png": "[encoded data removed]",
            "text/plain": [
              "<Figure size 600x400 with 2 Axes>"
            ]
          },
          "metadata": {
            "tags": []
          }
        }
      ]
    },
    {
      "cell_type": "markdown",
      "metadata": {
        "id": "GFQWk4ApkU5e",
        "colab_type": "text"
      },
      "source": [
        "... multiply this linearized vector by the 16x16 \"Hilbert Mapping\" matrix above ..."
      ]
    },
    {
      "cell_type": "code",
      "metadata": {
        "id": "bZVSMYnJ1NfP",
        "colab_type": "code",
        "cellView": "code",
        "outputId": "d1d19317-2ce4-4b38-cf20-cb1e2a2bcdaa",
        "colab": {
          "base_uri": "https://localhost:8080/",
          "height": 269
        }
      },
      "source": [
        "#@title\n",
        "fig, (ax1, ax2) = plt.subplots(1, 2)\n",
        "ax1.set_title('... Multiplied ...')\n",
        "ax2.set_title('... Final')\n",
        "\n",
        "sns.heatmap(hilbert_mapped_vec, ax=ax1, square=True, cbar=False, xticklabels=False, yticklabels=False, linewidths=0.01, linecolor='white')\n",
        "sns.heatmap(hilbert_mapped_sq, ax=ax2, square=True, cbar=False, annot=hilbert_mapped_sq, xticklabels=False, yticklabels=False, linewidths=0.01, linecolor='white')\n",
        "plt.show()"
      ],
      "execution_count": 18,
      "outputs": [
        {
          "output_type": "display_data",
          "data": {
            "image/png": "[encoded data removed]",
            "text/plain": [
              "<Figure size 600x400 with 2 Axes>"
            ]
          },
          "metadata": {
            "tags": []
          }
        }
      ]
    },
    {
      "cell_type": "markdown",
      "metadata": {
        "id": "5gHydtRt00vd",
        "colab_type": "text"
      },
      "source": [
        "For the three people reading this who like mathematical notation, we take this matrix...\n",
        "\n",
        "\\begin{pmatrix} \n",
        "0 & 1 & 2 & 3 \\\\ \n",
        "4 & 5 & 6 & 7 \\\\\n",
        "8 & 9 & 10 & 11 \\\\\n",
        "12 & 13 & 14 & 15\n",
        "\\end{pmatrix}\n",
        "\n",
        "express it as a 16-cell vector, multiply it by the above Hilbert mapping function matrix..."
      ]
    },
    {
      "cell_type": "markdown",
      "metadata": {
        "id": "hOOlGIHvSbWL",
        "colab_type": "text"
      },
      "source": [
        "\n",
        "$$\n",
        "\\begin{pmatrix} 0 \\\\ 1 \\\\ 2 \\\\ 3 \\\\ 4 \\\\ 5 \\\\ 6 \\\\ 7 \\\\ 8 \\\\ 9 \\\\ 10 \\\\ 11 \\\\ 12 \\\\ 13 \\\\ 14 \\\\ 15 \\end{pmatrix} * \n",
        "\\begin{pmatrix} \n",
        "1&.&.&.&.&.&.&.&.&.&.&.&.&.&.&.\\\\\n",
        "0&.&.&1&.&.&.&.&.&.&.&.&.&.&.&.\\\\\n",
        "0&.&.&.&1&.&.&.&.&.&.&.&.&.&.&.\\\\\n",
        "0&.&.&.&.&1&.&.&.&.&.&.&.&.&.&.\\\\\n",
        "0&1&.&.&.&.&.&.&.&.&.&.&.&.&.&.\\\\\n",
        "0&.&1&.&.&.&.&.&.&.&.&.&.&.&.&.\\\\\n",
        "0&.&.&.&.&.&.&1&.&.&.&.&.&.&.&.\\\\\n",
        "0&.&.&.&.&.&1&.&.&.&.&.&.&.&.&.\\\\\n",
        "0&.&.&.&.&.&.&.&.&.&.&.&.&.&1&.\\\\\n",
        "0&.&.&.&.&.&.&.&.&.&.&.&.&1&.&.\\\\\n",
        "0&.&.&.&.&.&.&.&1&.&.&.&.&.&.&.\\\\\n",
        "0&.&.&.&.&.&.&.&.&1&.&.&.&.&.&.\\\\\n",
        "0&.&.&.&.&.&.&.&.&.&.&.&.&.&.&1\\\\\n",
        "0&.&.&.&.&.&.&.&.&.&.&.&1&.&.&.\\\\\n",
        "0&.&.&.&.&.&.&.&.&.&.&1&.&.&.&.\\\\\n",
        "0&.&.&.&.&.&.&.&.&.&1&.&.&.&.&.\\\\\n",
        "\\end{pmatrix}\n",
        "=\n",
        "\\begin{pmatrix} \n",
        "0 \\\\ 3 \\\\ 4 \\\\ 5 \\\\\n",
        "1 \\\\ 2 \\\\ 7 \\\\ 6 \\\\\n",
        "14 \\\\ 13 \\\\ 8 \\\\ 9 \\\\\n",
        "15 \\\\ 12 \\\\ 11 \\\\ 10\n",
        "\\end{pmatrix}\n",
        "$$"
      ]
    },
    {
      "cell_type": "markdown",
      "metadata": {
        "id": "JsLUs5Wx2vIx",
        "colab_type": "text"
      },
      "source": [
        "... and then wrap the resulting 16-cell vector as a 2D matrix:\n",
        "\n",
        "\\begin{pmatrix} \n",
        "0&3&4&5 \\\\\n",
        "1&2&7&6 \\\\\n",
        "14&13&8&9 \\\\\n",
        "15&12&11&10\n",
        "\\end{pmatrix}\n"
      ]
    },
    {
      "cell_type": "markdown",
      "metadata": {
        "id": "hM51WiqgPon2",
        "colab_type": "text"
      },
      "source": [
        "One might assume that there also exists a 4x4 matrix which directly transforms the original matrix into the final. "
      ]
    },
    {
      "cell_type": "markdown",
      "metadata": {
        "id": "M1uI8XASR8X8",
        "colab_type": "text"
      },
      "source": [
        "\n",
        "$$\n",
        "\\begin{pmatrix} 0&1&2&3 \\\\ \n",
        "4&5&6&7 \\\\ \n",
        "8&9&10&11 \\\\ \n",
        "12&13&14&15 \n",
        "\\end{pmatrix} * \n",
        "\\begin{pmatrix} \n",
        "a&b&c&d \\\\\n",
        "e&f&g&h \\\\\n",
        "i&j&k&l \\\\\n",
        "m&n&o&p\n",
        "\\end{pmatrix}\n",
        "=\n",
        "\\begin{pmatrix} \n",
        "0&3&4&5 \\\\\n",
        "1&2&7&6 \\\\\n",
        "14&13&8&9 \\\\\n",
        "15&12&11&10\n",
        "\\end{pmatrix}\n",
        "$$"
      ]
    },
    {
      "cell_type": "markdown",
      "metadata": {
        "id": "CL-J1hbgsUfH",
        "colab_type": "text"
      },
      "source": [
        "Such a matrix is soluble for the 2x2 case:\n",
        "[Symbolab](https://www.symbolab.com/solver/matrix-multiply-calculator/solve%20for%20%5Cbegin%7Bpmatrix%7Da%26b%5C%5C%20%20%20%20c%26d%5Cend%7Bpmatrix%7D%2C%20%5Cbegin%7Bpmatrix%7D1%262%5C%5C%203%264%5Cend%7Bpmatrix%7D%5Cbegin%7Bpmatrix%7Da%26b%5C%5C%20c%26d%5Cend%7Bpmatrix%7D%20%3D%5Cbegin%7Bpmatrix%7D1%262%5C%5C%204%263%5Cend%7Bpmatrix%7D)\n"
      ]
    },
    {
      "cell_type": "markdown",
      "metadata": {
        "id": "R7hWN29esQVB",
        "colab_type": "text"
      },
      "source": [
        "$$\n",
        "\\begin{pmatrix} 0&1 \\\\ \n",
        "2&3\n",
        "\\end{pmatrix} * \n",
        "\\begin{pmatrix} \n",
        "a&b \\\\\n",
        "c&d \n",
        "\\end{pmatrix}\n",
        "=\n",
        "\\begin{pmatrix} \n",
        "0 &1  \\\\ \n",
        "3 & 2 \n",
        "\\end{pmatrix}\n",
        "$$\n",
        "\n",
        "result:\n",
        "\n",
        "\\begin{pmatrix} \n",
        "a=2&b=-1 \\\\\n",
        "c=0.5&d=1.5\n",
        "\\end{pmatrix}\n",
        "\n"
      ]
    },
    {
      "cell_type": "markdown",
      "metadata": {
        "id": "G3Gr_egetQG0",
        "colab_type": "text"
      },
      "source": [
        "However, the web site failed for the above 4x4 case:\n",
        "\n",
        "[Symbolab](https://www.symbolab.com/solver/matrix-multiply-calculator/solve%20for%20%5Cbegin%7Bpmatrix%7Da%26b%26c%26d%5C%5C%20%20%20e%26f%26g%26h%5C%5C%20%20%20i%26j%26k%26l%5C%5C%20%20%20m%26n%26o%26p%5Cend%7Bpmatrix%7D%2C%20%5Cbegin%7Bpmatrix%7D1%261%261%261%5C%5C%20%20%20%201%261%261%261%5C%5C%20%20%20%201%261%261%261%5C%5C%20%20%20%201%261%261%261%5Cend%7Bpmatrix%7D%5Ccdot%5Cbegin%7Bpmatrix%7Da%26b%26c%26d%5C%5C%20%20%20%20e%26f%26g%26h%5C%5C%20%20%20%20i%26j%26k%26l%5C%5C%20%20%20%20m%26n%26o%26p%5Cend%7Bpmatrix%7D%3D%5Cbegin%7Bpmatrix%7D1%261%261%261%5C%5C%20%20%201%261%261%261%5C%5C%20%20%201%261%261%261%5C%5C%20%20%201%261%261%261%5Cend%7Bpmatrix%7D)\n",
        "\n",
        "Naive application of other equation-solving software has similarly met with failure, at this and other powers of 2. In general, this problem is probably not solvable with linear methods."
      ]
    },
    {
      "cell_type": "code",
      "metadata": {
        "id": "pcEeJwnKEXyE",
        "colab_type": "code",
        "cellView": "code",
        "colab": {}
      },
      "source": [
        "#@title\n"
      ],
      "execution_count": 0,
      "outputs": []
    }
  ]
}