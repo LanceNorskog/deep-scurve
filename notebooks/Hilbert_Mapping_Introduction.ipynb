{
  "nbformat": 4,
  "nbformat_minor": 0,
  "metadata": {
    "colab": {
      "name": "Hilbert Mapping Introduction.ipynb",
      "provenance": [],
      "collapsed_sections": []
    },
    "kernelspec": {
      "name": "python3",
      "display_name": "Python 3"
    }
  },
  "cells": [
    {
      "cell_type": "code",
      "metadata": {
        "id": "vTbcfJ3Bgl9B",
        "colab_type": "code",
        "cellView": "form",
        "colab": {}
      },
      "source": [
        "#@title\n",
        "!rm -rf remap_image\n",
        "!git clone -q https://github.com/LanceNorskog/remap_image.git\n",
        "%cd /content/remap_image\n",
        "import scurve.scurve as scurve\n",
        "import numpy as np\n",
        "import matplotlib.pyplot as plt\n",
        "plt.rcParams['font.family'] = \"serif\"\n",
        "plt.set_cmap('tab20b')\n",
        "plt.rcParams['figure.dpi'] = 100\n",
        "import seaborn as sns\n",
        "from bokeh.plotting import figure, output_notebook, show\n",
        "from bokeh.models import Range1d\n",
        "from math import radians"
      ],
      "execution_count": 0,
      "outputs": []
    },
    {
      "cell_type": "markdown",
      "metadata": {
        "id": "QCfPDoFWfXxa",
        "colab_type": "text"
      },
      "source": [
        "# Introduction: Applications of Hilbert Space-Filling Curves to Image Processing"
      ]
    },
    {
      "cell_type": "code",
      "metadata": {
        "id": "KvAKohoBhq6V",
        "colab_type": "code",
        "cellView": "form",
        "colab": {}
      },
      "source": [
        "#@title\n",
        "side = 4\n",
        "power2 = int(2 ** np.floor(np.sqrt(side * 2)))\n",
        "hilbertizer = scurve.fromSize('hilbert', 2, power2 * power2)"
      ],
      "execution_count": 0,
      "outputs": []
    },
    {
      "cell_type": "code",
      "metadata": {
        "id": "A4MXmitChQHE",
        "colab_type": "code",
        "cellView": "form",
        "colab": {}
      },
      "source": [
        "#@title\n",
        "ints_mat = np.reshape(np.arange(side * side, dtype='int32'), (side, side))\n",
        "ints_line = np.reshape(np.arange(side * side, dtype='int32'), (1, side * side))\n",
        "mapper = np.zeros((side * side), dtype='int32')\n",
        "for x in range(side):\n",
        "    for y in range(side):\n",
        "        xy = hilbertizer.point(x * side + y)\n",
        "        mapper[xy[0] * side + xy[1]] = x * side + y\n",
        "ints_mapped_mat = np.reshape(mapper, (side, side))\n",
        "ints_mapped_line = np.reshape(mapper, (1, side * side))\n"
      ],
      "execution_count": 0,
      "outputs": []
    },
    {
      "cell_type": "markdown",
      "metadata": {
        "id": "AHujRMfsv2Jt",
        "colab_type": "text"
      },
      "source": [
        "A space-filling curve is a path through a grid which covers the entire grid, and only touches each square once. There are various types of such paths. The Hilbert space-filling curve is one of a family of such paths. Unlike some paths, the Hilbert space-filling curve is self-similar (fractal) and has really interesting properties for analyzing multi-dimensional data.\n",
        "\n",
        "This notebook walks through an explanation of how to capture neighborhoods of pixels in a way that is very friendly to deep learning.\n",
        "\n",
        "![Basic space-filling curve](https://www.bic.mni.mcgill.ca/~mallar/CS-644B/hilbert.gif)\n",
        "\n",
        "[Good basic explanation of Hilbert space-filling curves](http://www.bic.mni.mcgill.ca/~mallar/CS-644B/hilbert.html)\n"
      ]
    },
    {
      "cell_type": "markdown",
      "metadata": {
        "id": "PaAgiknghNtP",
        "colab_type": "text"
      },
      "source": [
        "You can create a Hilbert space-filling curve by folding a square sheet of paper into smaller squares, then cutting a certain pattern through the resulting (thick) set of sheets. (I found one illustration of exactly this, but now cannot locate it.)"
      ]
    },
    {
      "cell_type": "markdown",
      "metadata": {
        "id": "kQxWWWExgz4m",
        "colab_type": "text"
      },
      "source": [
        "# Rearranging a Matrix with the Hilbert Space-Filling Curve"
      ]
    },
    {
      "cell_type": "markdown",
      "metadata": {
        "id": "E4YSzaCbfykR",
        "colab_type": "text"
      },
      "source": [
        "We can rearrange a square matrix using the Hilbert space-filling curve.\n",
        "The output matrix will have most of the squares in a new position, and each square exists in the target matrix. Squares are not deleted or copied.\n",
        "\n",
        "The following grids show how cells are numbered in a Hilbert path through a 4x4 grid. The left grid shows the conventional computer memory-based addressing. The right grid shows the path through the grid in cell order."
      ]
    },
    {
      "cell_type": "code",
      "metadata": {
        "id": "Lyv6dS1xhBhA",
        "colab_type": "code",
        "cellView": "form",
        "outputId": "11d338c8-e58d-46cc-ef2e-f733cf7cbe12",
        "colab": {
          "base_uri": "https://localhost:8080/",
          "height": 269
        }
      },
      "source": [
        "#@title\n",
        "fig, (ax1, ax2) = plt.subplots(1, 2)\n",
        "ax1.set_title('Linear order')\n",
        "ax2.set_title('Hilbert order')\n",
        "sns.heatmap(ints_mat, ax=ax1, square=True, cbar=False, annot=ints_mat, xticklabels=False, yticklabels=False, linewidths=0.01, linecolor='white')\n",
        "sns.heatmap(ints_mapped_mat, ax=ax2, square=True, cbar=False, annot=ints_mapped_mat, xticklabels=False, yticklabels=False, linewidths=0.01, linecolor='white')\n",
        "plt.show()"
      ],
      "execution_count": 4,
      "outputs": [
        {
          "output_type": "display_data",
          "data": {
            "image/png": "[encoded data removed]",
            "text/plain": [
              "<Figure size 600x400 with 2 Axes>"
            ]
          },
          "metadata": {
            "tags": []
          }
        }
      ]
    },
    {
      "cell_type": "markdown",
      "metadata": {
        "id": "0NQgGIthl0iu",
        "colab_type": "text"
      },
      "source": [
        "We start with the matrix in linear order..."
      ]
    },
    {
      "cell_type": "code",
      "metadata": {
        "id": "JktgCRm2hR1a",
        "colab_type": "code",
        "cellView": "form",
        "outputId": "46750c37-e900-4380-e13d-c09ef329e4c9",
        "colab": {
          "base_uri": "https://localhost:8080/",
          "height": 339
        }
      },
      "source": [
        "#@title\n",
        "fig, ax1 = plt.subplots(1, 1)\n",
        "sns.heatmap(ints_mat, ax=ax1, square=True, cbar=False, annot=ints_mat, xticklabels=False, yticklabels=False, linewidths=0.01, linecolor='white')\n",
        "plt.show()"
      ],
      "execution_count": 5,
      "outputs": [
        {
          "output_type": "display_data",
          "data": {
            "image/png": "[encoded data removed]",
            "text/plain": [
              "<Figure size 600x400 with 1 Axes>"
            ]
          },
          "metadata": {
            "tags": []
          }
        }
      ]
    },
    {
      "cell_type": "markdown",
      "metadata": {
        "id": "DB-ugXN0nrbT",
        "colab_type": "text"
      },
      "source": [
        "... unrolls it into a 16-cell vector ..."
      ]
    },
    {
      "cell_type": "code",
      "metadata": {
        "id": "Iohj8BVFiPj6",
        "colab_type": "code",
        "outputId": "35c88a86-9812-4644-9ea9-628173a824df",
        "cellView": "form",
        "colab": {
          "base_uri": "https://localhost:8080/",
          "height": 66
        }
      },
      "source": [
        "#@title\n",
        "fig, ax1 = plt.subplots(1, 1)\n",
        "sns.heatmap(ints_line, ax=ax1, square=True, cbar=False, annot=ints_line, xticklabels=False, yticklabels=False, linewidths=0.01, linecolor='white')\n",
        "plt.show()"
      ],
      "execution_count": 6,
      "outputs": [
        {
          "output_type": "display_data",
          "data": {
            "image/png": "[encoded data removed]",
            "text/plain": [
              "<Figure size 600x400 with 1 Axes>"
            ]
          },
          "metadata": {
            "tags": []
          }
        }
      ]
    },
    {
      "cell_type": "markdown",
      "metadata": {
        "id": "NkJzCd6CoBSL",
        "colab_type": "text"
      },
      "source": [
        "... shuffles the contents of each cell to its place along the Hilbert curve..."
      ]
    },
    {
      "cell_type": "code",
      "metadata": {
        "id": "KBbuRuZalNQ_",
        "colab_type": "code",
        "outputId": "8829adc6-02af-4bd0-940e-3d5998097230",
        "cellView": "form",
        "colab": {
          "base_uri": "https://localhost:8080/",
          "height": 66
        }
      },
      "source": [
        "#@title\n",
        "fig, ax1 = plt.subplots(1, 1)\n",
        "sns.heatmap(ints_mapped_line, ax=ax1, square=True, cbar=False, annot=ints_mapped_line, xticklabels=False, yticklabels=False, linewidths=0.01, linecolor='white')\n",
        "plt.show()"
      ],
      "execution_count": 7,
      "outputs": [
        {
          "output_type": "display_data",
          "data": {
            "image/png": "[encoded data removed]",
            "text/plain": [
              "<Figure size 600x400 with 1 Axes>"
            ]
          },
          "metadata": {
            "tags": []
          }
        }
      ]
    },
    {
      "cell_type": "markdown",
      "metadata": {
        "id": "7zOUl_kqoNXi",
        "colab_type": "text"
      },
      "source": [
        "... then reshapes the resulting vector back into a matrix."
      ]
    },
    {
      "cell_type": "code",
      "metadata": {
        "id": "OfGxIvDElN4S",
        "colab_type": "code",
        "outputId": "aa3ef15d-04ce-4423-8fa0-f6129231dd5f",
        "cellView": "form",
        "colab": {
          "base_uri": "https://localhost:8080/",
          "height": 339
        }
      },
      "source": [
        "#@title\n",
        "fig, ax1 = plt.subplots(1, 1)\n",
        "sns.heatmap(ints_mapped_mat, ax=ax1, square=True, cbar=False, annot=ints_mapped_mat, xticklabels=False, yticklabels=False, linewidths=0.01, linecolor='white')\n",
        "plt.show()"
      ],
      "execution_count": 8,
      "outputs": [
        {
          "output_type": "display_data",
          "data": {
            "image/png": "[encoded data removed]",
            "text/plain": [
              "<Figure size 600x400 with 1 Axes>"
            ]
          },
          "metadata": {
            "tags": []
          }
        }
      ]
    },
    {
      "cell_type": "markdown",
      "metadata": {
        "id": "fUCFK1dM3vm0",
        "colab_type": "text"
      },
      "source": [
        "In image-processing terms, this could be called the *Hilbert Convolution*, the *Space-filling curve convolution*, or (my favorite) the *Fractal Scramble*. Hilbert shape-filling curves are defined for all finite dimensions, and thus the Hilbert Convolution can be applied to image, 3D voxel data, and any other (hyper-)cubic tensor."
      ]
    },
    {
      "cell_type": "markdown",
      "metadata": {
        "id": "xB9UF4yloeAL",
        "colab_type": "text"
      },
      "source": [
        "# Hilbert Mapping as a Matrix Function"
      ]
    },
    {
      "cell_type": "markdown",
      "metadata": {
        "id": "v6U7llXhopiC",
        "colab_type": "text"
      },
      "source": [
        "The Hilbert mapping can be directly expressed as a function on the unwrapped line in Step 2. Recall from basic linear algebra that the identity matrix is called this because it is the identity function on a vector (or matrix).\n"
      ]
    },
    {
      "cell_type": "markdown",
      "metadata": {
        "id": "5lTTJi04lqs7",
        "colab_type": "text"
      },
      "source": [
        "$$\n",
        "\\begin{pmatrix} x \\\\ y \\\\ z \\end{pmatrix} * \n",
        "\\begin{pmatrix} \n",
        "1&0&0 \\\\\n",
        "0&1&0 \\\\\n",
        "0&0&1\n",
        "\\end{pmatrix}\n",
        "=\n",
        "\\begin{pmatrix} \n",
        "x*1&+&y*0&+&z*0 \\\\\n",
        "x*0&+&y*1&+&z*0 \\\\\n",
        "x*0&+&y*0&+&z*1 \\\\\n",
        "\\end{pmatrix}\n",
        "=\n",
        "\\begin{pmatrix} x \\\\ y \\\\ z \\end{pmatrix}\n",
        "$$"
      ]
    },
    {
      "cell_type": "markdown",
      "metadata": {
        "id": "yUpdf5lcqyep",
        "colab_type": "text"
      },
      "source": [
        "The Hilbert mapping function, as a matrix, looks like the identity function shown above, except that the 1's are rearranged. (Given that this matrix has to turn a 16-cell vector into another 16-cell vector, it has to be a 16x16 matrix.)"
      ]
    },
    {
      "cell_type": "code",
      "metadata": {
        "id": "EDgFrnBhpQuZ",
        "colab_type": "code",
        "outputId": "243afc8a-6e19-4497-d8e5-95cb55b17de7",
        "cellView": "form",
        "colab": {
          "base_uri": "https://localhost:8080/",
          "height": 269
        }
      },
      "source": [
        "#@title\n",
        "fig, (ax1, ax2) = plt.subplots(1, 2)\n",
        "ax1.set_title('Identity Mapping')\n",
        "ax2.set_title('Hilbert Mapping')\n",
        "\n",
        "mapping_side = side*side\n",
        "ident_mapping = np.zeros((mapping_side, mapping_side))\n",
        "hilbert_mapping = np.zeros((mapping_side, mapping_side))\n",
        "\n",
        "for x in range(side):\n",
        "    for y in range(side):\n",
        "        ident_mapping[x * side + y][x * side + y] = 1\n",
        "        hilbert_mapping[x * side + y][mapper[x * side + y]] = 1\n",
        "\n",
        "sns.heatmap(ident_mapping, ax=ax1, square=True, cbar=False,  xticklabels=False, yticklabels=False, linewidths=0.01, linecolor='white')\n",
        "sns.heatmap(hilbert_mapping, ax=ax2, square=True, cbar=False, xticklabels=False, yticklabels=False, linewidths=0.01, linecolor='white')\n",
        "\n",
        "plt.show()\n"
      ],
      "execution_count": 9,
      "outputs": [
        {
          "output_type": "display_data",
          "data": {
            "image/png": "[encoded data removed]",
            "text/plain": [
              "<Figure size 600x400 with 2 Axes>"
            ]
          },
          "metadata": {
            "tags": []
          }
        }
      ]
    },
    {
      "cell_type": "markdown",
      "metadata": {
        "id": "cpSEX-ha0huY",
        "colab_type": "text"
      },
      "source": [
        "Multiplying a 16-vector by the above Hilbert mapping function gives the rearranged 16-vector:"
      ]
    },
    {
      "cell_type": "code",
      "metadata": {
        "id": "Z6SM2GLx1R-P",
        "colab_type": "code",
        "cellView": "form",
        "colab": {}
      },
      "source": [
        "#@title\n",
        "sample_data = np.arange(mapping_side)\n",
        "sample_data_vec = np.reshape(sample_data, (1, mapping_side))\n",
        "sample_data_sq = np.reshape(sample_data, (side,side))\n",
        "\n",
        "hilbert_mapped = np.dot(hilbert_mapping, sample_data)\n",
        "hilbert_mapped_vec = np.reshape(hilbert_mapped, (1, mapping_side))\n",
        "hilbert_mapped_sq = np.reshape(hilbert_mapped, (side,side))"
      ],
      "execution_count": 0,
      "outputs": []
    },
    {
      "cell_type": "code",
      "metadata": {
        "id": "s7gT-71Fso8E",
        "colab_type": "code",
        "outputId": "2c74d27b-2e94-4b8c-e446-3c6ac3771bf2",
        "cellView": "form",
        "colab": {
          "base_uri": "https://localhost:8080/",
          "height": 269
        }
      },
      "source": [
        "#@title\n",
        "fig, (ax1, ax2) = plt.subplots(1, 2)\n",
        "ax1.set_title('Original ...')\n",
        "ax2.set_title('... Unwrapped ...')\n",
        "\n",
        "\n",
        "sns.heatmap(sample_data_sq, ax=ax1, square=True, cbar=False, annot=sample_data_sq, xticklabels=False, yticklabels=False, linewidths=0.01, linecolor='white')\n",
        "sns.heatmap(sample_data_vec, ax=ax2, square=True, cbar=False, xticklabels=False, yticklabels=False, linewidths=0.01, linecolor='white')\n",
        "\n",
        "plt.show()"
      ],
      "execution_count": 11,
      "outputs": [
        {
          "output_type": "display_data",
          "data": {
            "image/png": "[encoded data removed]",
            "text/plain": [
              "<Figure size 600x400 with 2 Axes>"
            ]
          },
          "metadata": {
            "tags": []
          }
        }
      ]
    },
    {
      "cell_type": "markdown",
      "metadata": {
        "id": "GFQWk4ApkU5e",
        "colab_type": "text"
      },
      "source": [
        "... multiply this linearized vector by the 16x16 \"Hilbert Mapping\" matrix above ..."
      ]
    },
    {
      "cell_type": "code",
      "metadata": {
        "id": "bZVSMYnJ1NfP",
        "colab_type": "code",
        "cellView": "form",
        "outputId": "071f871e-1ae3-4981-af67-c5f4ef816806",
        "colab": {
          "base_uri": "https://localhost:8080/",
          "height": 269
        }
      },
      "source": [
        "#@title\n",
        "fig, (ax1, ax2) = plt.subplots(1, 2)\n",
        "ax1.set_title('... Multiplied ...')\n",
        "ax2.set_title('... Final')\n",
        "\n",
        "sns.heatmap(hilbert_mapped_vec, ax=ax1, square=True, cbar=False, xticklabels=False, yticklabels=False, linewidths=0.01, linecolor='white')\n",
        "sns.heatmap(hilbert_mapped_sq, ax=ax2, square=True, cbar=False, annot=hilbert_mapped_sq, xticklabels=False, yticklabels=False, linewidths=0.01, linecolor='white')\n",
        "\n",
        "plt.show()"
      ],
      "execution_count": 12,
      "outputs": [
        {
          "output_type": "display_data",
          "data": {
            "image/png": "[encoded data removed]",
            "text/plain": [
              "<Figure size 600x400 with 2 Axes>"
            ]
          },
          "metadata": {
            "tags": []
          }
        }
      ]
    },
    {
      "cell_type": "markdown",
      "metadata": {
        "id": "5gHydtRt00vd",
        "colab_type": "text"
      },
      "source": [
        "For the three people reading this who like mathematical notation, we take this matrix...\n",
        "\n",
        "\\begin{pmatrix} \n",
        "0 & 1 & 2 & 3 \\\\\n",
        "4 & 5 & 6 & 7 \\\\ \n",
        "8 & 9 & 10 & 11 \\\\ \n",
        "12&13&14&15 \n",
        "\\end{pmatrix}\n",
        "\n",
        "express it as a 16-cell vector, multiply it by the above Hilbert mapping function matrix..."
      ]
    },
    {
      "cell_type": "markdown",
      "metadata": {
        "id": "hOOlGIHvSbWL",
        "colab_type": "text"
      },
      "source": [
        "\n",
        "$$\n",
        "\\begin{pmatrix} 0 \\\\ 1 \\\\ 2 \\\\ 3 \\\\ 4 \\\\ 5 \\\\ 6 \\\\ 7 \\\\ 8 \\\\ 9 \\\\ 10 \\\\ 11 \\\\ 12 \\\\ 13 \\\\ 14 \\\\ 15 \\end{pmatrix} * \n",
        "\\begin{pmatrix} \n",
        "1&0&0&0&0&0&0&0&0&0&0&0&0&0&0&0 \\\\\n",
        "0&1&0&0&0&0&0&0&0&0&0&0&0&0&0&0 \\\\\n",
        "0&0&0&0&0&0&0&0&0&0&0&0&0&0&1&0 \\\\\n",
        "0&0&0&0&0&0&0&0&0&0&0&0&0&0&0&1 \\\\\n",
        "0&0&0&1&0&0&0&0&0&0&0&0&0&0&0&0 \\\\\n",
        "0&0&1&0&0&0&0&0&0&0&0&0&0&0&0&0 \\\\\n",
        "0&0&0&0&0&0&0&0&0&0&0&0&0&1&0&0 \\\\\n",
        "0&0&0&0&0&0&0&0&0&0&0&0&1&0&0&0 \\\\\n",
        "0&0&0&0&1&0&0&0&0&0&0&0&0&0&0&0 \\\\\n",
        "0&0&0&0&0&0&0&1&0&0&0&0&0&0&0&0 \\\\\n",
        "0&0&0&0&0&0&0&0&0&1&0&0&0&0&0&0 \\\\\n",
        "0&0&0&0&0&0&0&0&0&0&1&0&0&0&0&0 \\\\\n",
        "0&0&0&0&0&1&0&0&0&0&0&0&0&0&0&0 \\\\\n",
        "0&0&0&0&0&0&1&0&0&0&0&0&0&0&0&0 \\\\\n",
        "0&0&0&0&0&0&0&0&1&0&0&0&0&0&0&0 \\\\\n",
        "0&0&0&0&0&0&0&0&0&0&0&1&0&0&0&0 \n",
        "\\end{pmatrix}\n",
        "=\n",
        "\\begin{pmatrix} \n",
        "0 \\\\ 1 \\\\ 14 \\\\ 15 \\\\ 3 \\\\ 2 \\\\ 13 \\\\ 12 \\\\ 4 \\\\ 7 \\\\ 9 \\\\ 10 \\\\ 5 \\\\ 6 \\\\ 8 \\\\ 11\n",
        "\\end{pmatrix}\n",
        "$$"
      ]
    },
    {
      "cell_type": "markdown",
      "metadata": {
        "id": "JsLUs5Wx2vIx",
        "colab_type": "text"
      },
      "source": [
        "... and then wrap the resulting 16-cell vector as a 2D matrix:\n",
        "\n",
        "\\begin{pmatrix} \n",
        "0 & 1 & 14 & 15 \\\\ 3 & 2 & 13 & 12 \\\\ 4 & 7 & 9 & 10 \\\\ 5 & 6 & 8 & 11\n",
        "\\end{pmatrix}\n"
      ]
    }
  ]
}