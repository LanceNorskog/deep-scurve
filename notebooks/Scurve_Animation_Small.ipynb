{
  "nbformat": 4,
  "nbformat_minor": 0,
  "metadata": {
    "colab": {
      "name": "Scurve Animation Small.ipynb",
      "provenance": [],
      "collapsed_sections": []
    },
    "kernelspec": {
      "name": "python3",
      "display_name": "Python 3"
    }
  },
  "cells": [
    {
      "cell_type": "code",
      "metadata": {
        "id": "J5S06BfMaQ-N",
        "colab_type": "code",
        "outputId": "cf20da20-2269-4275-d86b-0fa14237dd45",
        "colab": {
          "base_uri": "https://localhost:8080/",
          "height": 156
        }
      },
      "source": [
        "!pip install --upgrade -q google-colab\n",
        "!apt-get install -q gifsicle\n",
        "!pip install -q pygifsicle\n",
        "# Yes, three different image libraries: \n",
        "#  PIL for drawing, imageio for gif creation, gifsicle for gif optimization\n",
        "import imageio\n",
        "from PIL import Image, ImageDraw\n",
        "format='GIF-PIL'\n",
        "# Format - Pillow is the default!\n",
        "F = imageio.formats[\"GIF\"]\n",
        "assert F.name == \"GIF-PIL\"\n",
        "\n",
        "from pygifsicle import optimize\n",
        "import gc\n",
        "\n",
        "import scipy.constants\n",
        "import os\n",
        "\n",
        "import math\n",
        "import numpy as np"
      ],
      "execution_count": 1,
      "outputs": [
        {
          "output_type": "stream",
          "text": [
            "Reading package lists...\n",
            "Building dependency tree...\n",
            "Reading state information...\n",
            "gifsicle is already the newest version (1.91-2).\n",
            "The following package was automatically installed and is no longer required:\n",
            "  libnvidia-common-430\n",
            "Use 'apt autoremove' to remove it.\n",
            "0 upgraded, 0 newly installed, 0 to remove and 25 not upgraded.\n"
          ],
          "name": "stdout"
        }
      ]
    },
    {
      "cell_type": "code",
      "metadata": {
        "id": "mUmqjd001zoQ",
        "colab_type": "code",
        "outputId": "7ba6fa30-e9de-420d-bd81-a168975c1b65",
        "colab": {
          "base_uri": "https://localhost:8080/",
          "height": 69
        }
      },
      "source": [
        "%cd /content\n",
        "!rm -rf remap_image\n",
        "!git clone -q https://github.com/LanceNorskog/remap_image.git\n",
        "%cd /content/remap_image\n",
        "import scurve.scurve as scurve\n",
        "\n",
        "side = 8\n",
        "side = 8\n",
        "tiling = 'hilbert'\n",
        "map = scurve.fromSize(tiling, 2, side * side)\n",
        "def get_reverse_index(index, side):\n",
        "    xy = map.point(index)\n",
        "    return xy[0] * side + xy[1]\n",
        "\n",
        "def remap(images, inverted=False):\n",
        "    side = images.shape[-1]\n",
        "            \n",
        "    h_indexes = np.arange(0, (side * side), dtype='int32')\n",
        "    h_indexes_inverted = np.arange(0, (side * side), dtype='int32')\n",
        "    for index in range(side * side):\n",
        "        h_indexes[index] = get_reverse_index(index, side)\n",
        "    for x in range(side):\n",
        "        for y in range(side):\n",
        "            h_indexes_inverted[x * side + y] = map.index([x, y])        \n",
        "    tiles = np.zeros((images.shape[0], side, side))\n",
        "    for i in range(images.shape[0]):\n",
        "        padded = np.reshape(np.pad(images[i], (0, side-side), mode='constant', constant_values=(0)), (side*side))\n",
        "        if not inverted:\n",
        "            tiles[i] = np.reshape(padded[h_indexes], (side, side))\n",
        "        else:\n",
        "            tiles[i] = np.reshape(padded[h_indexes_inverted], (side, side))\n",
        "    return tiles"
      ],
      "execution_count": 2,
      "outputs": [
        {
          "output_type": "stream",
          "text": [
            "/content\n",
            "/content/remap_image\n",
            "[8, 8]\n"
          ],
          "name": "stdout"
        }
      ]
    },
    {
      "cell_type": "code",
      "metadata": {
        "id": "53366-PNrgVP",
        "colab_type": "code",
        "colab": {}
      },
      "source": [
        "# I thought numpy had an indentity matrix func but can't find it!\n",
        "def identity(mat):\n",
        "    indexes = np.arange(0, mat.shape[1])\n",
        "    mat[indexes, indexes] = 1\n",
        "idmat = np.zeros((64, 64), dtype='float32')\n",
        "identity(idmat)\n",
        "ident_images = np.reshape(idmat, (64, 8, 8))"
      ],
      "execution_count": 0,
      "outputs": []
    },
    {
      "cell_type": "code",
      "metadata": {
        "id": "YkZx4mtvYDEU",
        "colab_type": "code",
        "colab": {}
      },
      "source": [
        "# composite current and N previous images into one image\n",
        "def sum_images(images, span=8):\n",
        "    num_frames = images.shape[0]-(span-1)\n",
        "    summed = np.zeros((num_frames, 8, 8), dtype='float32')\n",
        "    for i in range(num_frames):\n",
        "        for j in range(span):\n",
        "            summed[i] += images[i + j]\n",
        "        gray = np.max(summed[i])\n",
        "        if not math.isnan(gray):\n",
        "            summed[i] = summed[i] / gray\n",
        "    return summed\n",
        "\n",
        "# same as above but also include set of previous summations as faint echos\n",
        "def ghost_images(images, ghosts=3, shade=0.3):\n",
        "    num_frames = images.shape[0]\n",
        "    ghosted = np.zeros((num_frames, 8, 8), dtype='float32')\n",
        "    for i in range(0, num_frames):\n",
        "        for ghost in range(ghosts, -1, -1):\n",
        "            if i-ghost >= 0:\n",
        "                for r in range(images.shape[1]):\n",
        "                    for c in range(images.shape[2]):\n",
        "                        pix = images[i-ghost][r][c]\n",
        "                        if pix > 0.001:\n",
        "                            ghosted[i][r][c] = max(pix - (ghost * shade), 0)\n",
        "    return ghosted\n",
        "\n",
        "# add N copies of first and last images as lead-in and tail images \n",
        "def head_tail(frames, head, tail):\n",
        "    out = [frames[0] for x in range(head)]\n",
        "    for x in range(len(frames)):\n",
        "        out.append(frames[x])\n",
        "    for x in range(tail):\n",
        "        out.append(frames[-1])\n",
        "    return np.asarray(out, dtype='uint8')\n",
        "\n",
        "def get_centroid(frame, value=0.5):\n",
        "    side = frame.shape[0]\n",
        "    points = []\n",
        "    for r in range(side):\n",
        "        for c in range(side):\n",
        "            if frame[r][c] > value:\n",
        "                points.append([r,c])\n",
        "    if len(points) == 0:\n",
        "        return []\n",
        "    data = np.transpose(np.array(points))\n",
        "    return [np.mean(data[0]), np.mean(data[1])]\n",
        "\n",
        "def get_centroids(frames):\n",
        "    return np.array([get_centroid(frame) for frame in frames])\n"
      ],
      "execution_count": 0,
      "outputs": []
    },
    {
      "cell_type": "code",
      "metadata": {
        "id": "PZEiXtWrXjZT",
        "colab_type": "code",
        "colab": {
          "base_uri": "https://localhost:8080/",
          "height": 52
        },
        "outputId": "dc5dea22-11ad-4012-9e16-71e2df5cf1fc"
      },
      "source": [
        "box_size = 16\n",
        "gap = int(((side + 1) * box_size)/scipy.constants.golden)\n",
        "head = 5\n",
        "tail = 8\n",
        "spans = 3\n",
        "\n",
        "summed_ident = sum_images(ident_images)\n",
        "summed_hilbert = sum_images(remap(ident_images, inverted=True))\n"
      ],
      "execution_count": 5,
      "outputs": [
        {
          "output_type": "stream",
          "text": [
            "num_frames: 57\n",
            "num_frames: 57\n"
          ],
          "name": "stdout"
        }
      ]
    },
    {
      "cell_type": "code",
      "metadata": {
        "id": "1PfMosti0fFC",
        "colab_type": "code",
        "colab": {}
      },
      "source": [
        "# render checkerboard grid\n",
        "def grid(side, frame, grid_color):\n",
        "    # horz\n",
        "    for r in range(side + 1):\n",
        "        for c in range(side * box_size):\n",
        "            frame[r * box_size][c] = grid_color\n",
        "    # vert\n",
        "    for r in range(side * box_size + 1):\n",
        "        for c in range(side+ 1):\n",
        "            frame[r][c * box_size] = grid_color\n",
        "\n",
        "# expand image\n",
        "def blowup(image, size):\n",
        "    im_obj = Image.fromarray(image)\n",
        "    big = im_obj.resize((size, size))\n",
        "    return np.copy(np.asarray(big))\n",
        " \n",
        "# paste up two same-size frames side by side with a gap\n",
        "def dual_anim(image, image2, gap):\n",
        "    edge = image.shape[0]\n",
        "    shape = (image.shape[0], image.shape[1]*2 + gap)\n",
        "    frame = np.zeros(shape, dtype='uint8')\n",
        "    for r in range(edge):\n",
        "        frame[r][0:edge] = image[r][0:edge + 1]\n",
        "        frame[r][-(edge):] = image2[r][0:edge + 1]\n",
        "    return frame\n",
        "\n",
        "# turn N 8-bit numpy matrices into gif frames, movie, optimize it (1mb -> 50k)\n",
        "def animate(images, movie_file):\n",
        "    imageio.mimwrite(movie_file, images, fps=2)\n",
        "    optimize(movie_file)\n"
      ],
      "execution_count": 0,
      "outputs": []
    },
    {
      "cell_type": "code",
      "metadata": {
        "colab_type": "code",
        "id": "28BMvxBGVNzB",
        "colab": {}
      },
      "source": [
        "# draw dots and lines on rendered frame\n",
        "def scribble_dot(frame, centroid):\n",
        "    row = int(round(centroid[0]))\n",
        "    col = int(round(centroid[1]))\n",
        "    for r in [-2, -1, 0, 1, 2]:\n",
        "        for c in [-2, -1, 0, 1, 2]:\n",
        "            if abs(r) + abs(c) < 4:\n",
        "                frame[row + r][col + c] = 255\n",
        "\n",
        "def scribble_line(frame, indx, centroids):\n",
        "    def draw_line(frame, p1, p2):\n",
        "        image = Image.fromarray(frame)\n",
        "        draw = ImageDraw.Draw(image) \n",
        "        draw.line((p1[0], p1[1], p2[0], p2[1]), fill=255, width=2)\n",
        "        for r in range(frame.shape[0]):\n",
        "            for c in range(frame.shape[1]):\n",
        "                frame[r][c] = image.getpixel((c,r))\n",
        "    for i in range(indx):\n",
        "        p1 = centroids[i]\n",
        "        p2 = centroids[i+1]\n",
        "        r1 = int(round(p1[0]))\n",
        "        c1 = int(round(p1[1]))\n",
        "        r2 = int(round(p2[0]))\n",
        "        c2 = int(round(p2[1]))\n",
        "        draw_line(frame, [c1, r1], [c2, r2])"
      ],
      "execution_count": 0,
      "outputs": []
    },
    {
      "cell_type": "code",
      "metadata": {
        "id": "64bKqLIEph-A",
        "colab_type": "code",
        "colab": {}
      },
      "source": [
        "filename='walking_hilbert.gif'\n",
        "!rm -f walking_hilbert.gif"
      ],
      "execution_count": 0,
      "outputs": []
    },
    {
      "cell_type": "code",
      "metadata": {
        "id": "JvjsiKMticmK",
        "colab_type": "code",
        "colab": {
          "base_uri": "https://localhost:8080/",
          "height": 34
        },
        "outputId": "b39a6f50-28f5-4a11-ff33-3612a26ac82f"
      },
      "source": [
        "draw_ident = head_tail(summed_ident, head, tail)\n",
        "draw_hilbert = head_tail(summed_hilbert, head, tail)\n",
        "\n",
        "num_frames = draw_ident.shape[0]\n",
        "\n",
        "centroids = get_centroids(draw_hilbert)\n",
        "centroids = centroids * box_size + box_size//2\n",
        "\n",
        "gif_frames = []\n",
        "for i in range(num_frames):\n",
        "    gc.collect()\n",
        "    ident_large = blowup(draw_ident[i] * 192, box_size * side + 1)\n",
        "    hilbert_large = blowup(draw_hilbert[i] * 192, box_size * side + 1)\n",
        "    grid(side, ident_large, grid_color=252)\n",
        "    grid(side, hilbert_large, grid_color=252)\n",
        "    \n",
        "    fr = dual_anim(ident_large, hilbert_large, gap=gap)\n",
        "    gif_frames.append(fr)\n",
        "\n",
        "animate(gif_frames, filename)\n"
      ],
      "execution_count": 9,
      "outputs": [
        {
          "output_type": "stream",
          "text": [
            "anim frame shape: (129, 346)\n"
          ],
          "name": "stdout"
        }
      ]
    },
    {
      "cell_type": "code",
      "metadata": {
        "id": "9vFI7K6Tiufc",
        "colab_type": "code",
        "colab": {}
      },
      "source": [
        "!sleep 5\n",
        "from google.colab import files\n",
        "files.download(filename)"
      ],
      "execution_count": 0,
      "outputs": []
    },
    {
      "cell_type": "code",
      "metadata": {
        "id": "Dw5Dm5Mtz2Bc",
        "colab_type": "code",
        "colab": {}
      },
      "source": [
        "filename='walking_hilbert_centroids.gif'\n",
        "!rm -f walking_hilbert_centroids.gif"
      ],
      "execution_count": 0,
      "outputs": []
    },
    {
      "cell_type": "code",
      "metadata": {
        "id": "pbuQcP7Qz2LC",
        "colab_type": "code",
        "colab": {
          "base_uri": "https://localhost:8080/",
          "height": 34
        },
        "outputId": "afa6ff0f-251a-419f-8b54-1363f30c5d1b"
      },
      "source": [
        "draw_ident = head_tail(summed_ident, head, tail)\n",
        "draw_hilbert = head_tail(summed_hilbert, head, tail)\n",
        "\n",
        "num_frames = draw_ident.shape[0]\n",
        "\n",
        "centroids = get_centroids(draw_hilbert)\n",
        "centroids = centroids * box_size + box_size//2\n",
        "\n",
        "gif_frames = []\n",
        "for i in range(num_frames):\n",
        "    gc.collect()\n",
        "    ident_large = blowup(draw_ident[i] * 192, box_size * side + 1)\n",
        "    hilbert_large = blowup(draw_hilbert[i] * 192, box_size * side + 1)\n",
        "    grid(side, ident_large, grid_color=252)\n",
        "    grid(side, hilbert_large, grid_color=252)\n",
        "    scribble_dot(hilbert_large, centroids[i])\n",
        "    \n",
        "    fr = dual_anim(ident_large, hilbert_large, gap=gap)\n",
        "    gif_frames.append(fr)\n",
        "\n",
        "animate(gif_frames, filename)\n"
      ],
      "execution_count": 12,
      "outputs": [
        {
          "output_type": "stream",
          "text": [
            "anim frame shape: (129, 346)\n"
          ],
          "name": "stdout"
        }
      ]
    },
    {
      "cell_type": "code",
      "metadata": {
        "id": "ooeJPTfbz2VN",
        "colab_type": "code",
        "colab": {}
      },
      "source": [
        "!sleep 5\n",
        "from google.colab import files\n",
        "files.download(filename)"
      ],
      "execution_count": 0,
      "outputs": []
    },
    {
      "cell_type": "code",
      "metadata": {
        "id": "7RzU-Veu984y",
        "colab_type": "code",
        "colab": {
          "base_uri": "https://localhost:8080/",
          "height": 34
        },
        "outputId": "6afa4a4c-2402-4467-bcd4-67073eb034c1"
      },
      "source": [
        "filename='walking_hilbert_centroids_ghost.gif'\n",
        "!rm -f walking_hilbert_centroids_ghost.gif\n",
        "print(np.max(summed_hilbert))"
      ],
      "execution_count": 14,
      "outputs": [
        {
          "output_type": "stream",
          "text": [
            "1.0\n"
          ],
          "name": "stdout"
        }
      ]
    },
    {
      "cell_type": "code",
      "metadata": {
        "id": "hTiHpCZn_B4X",
        "colab_type": "code",
        "colab": {
          "base_uri": "https://localhost:8080/",
          "height": 34
        },
        "outputId": "4c6a60bc-ba88-431b-90a2-d3a2b02e6985"
      },
      "source": [
        "prep_ident = head_tail(summed_ident, head, tail)\n",
        "draw_hilbert = ghost_images(prep_ident, spans, shade=0.25)\n",
        "prep_hilbert = head_tail(summed_hilbert, head, tail)\n",
        "draw_hilbert = ghost_images(prep_hilbert, spans, shade=0.25)\n",
        "\n",
        "num_frames = draw_ident.shape[0]\n",
        "\n",
        "# do not get distracted by ghost cells, use prep_hilbert\n",
        "centroids = get_centroids(prep_hilbert)\n",
        "centroids = centroids * box_size + box_size//2\n",
        "\n",
        "gif_frames = []\n",
        "for i in range(num_frames):\n",
        "    gc.collect()\n",
        "    ident_large = blowup(draw_ident[i] * 192, box_size * side + 1)\n",
        "    hilbert_large = blowup(draw_hilbert[i] * 192, box_size * side + 1)\n",
        "    grid(side, ident_large, grid_color=252)\n",
        "    grid(side, hilbert_large, grid_color=252)\n",
        "    scribble_line(hilbert_large, i, centroids)\n",
        "    scribble_dot(hilbert_large, centroids[i])\n",
        "    \n",
        "    fr = dual_anim(ident_large, hilbert_large, gap=gap)\n",
        "    gif_frames.append(fr)\n",
        "\n",
        "animate(gif_frames, filename)\n"
      ],
      "execution_count": 15,
      "outputs": [
        {
          "output_type": "stream",
          "text": [
            "anim frame shape: (129, 346)\n"
          ],
          "name": "stdout"
        }
      ]
    },
    {
      "cell_type": "code",
      "metadata": {
        "id": "q3Dn9Klf_CCI",
        "colab_type": "code",
        "colab": {}
      },
      "source": [
        "!sleep 5\n",
        "from google.colab import files\n",
        "files.download(filename)"
      ],
      "execution_count": 0,
      "outputs": []
    },
    {
      "cell_type": "code",
      "metadata": {
        "id": "PppMpCM_LSK2",
        "colab_type": "code",
        "colab": {}
      },
      "source": [
        ""
      ],
      "execution_count": 0,
      "outputs": []
    }
  ]
}