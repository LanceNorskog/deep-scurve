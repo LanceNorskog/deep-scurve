{
  "nbformat": 4,
  "nbformat_minor": 0,
  "metadata": {
    "colab": {
      "name": "Scurve Animation Small.ipynb",
      "provenance": [],
      "collapsed_sections": []
    },
    "kernelspec": {
      "name": "python3",
      "display_name": "Python 3"
    }
  },
  "cells": [
    {
      "cell_type": "code",
      "metadata": {
        "id": "J5S06BfMaQ-N",
        "colab_type": "code",
        "outputId": "4279afc4-84db-43a5-f30c-cf00ed3803c5",
        "colab": {
          "base_uri": "https://localhost:8080/",
          "height": 156
        }
      },
      "source": [
        "# https://github.com/galtay/hilbertcurve\n",
        "!pip install -q hilbertcurve\n",
        "from hilbertcurve.hilbertcurve import HilbertCurve\n",
        "\n",
        "!pip install --upgrade -q google-colab\n",
        "!apt-get install -q gifsicle\n",
        "!pip install -q pygifsicle\n",
        "# Yes, three different image libraries: \n",
        "#  PIL for drawing, imageio for gif creation, gifsicle for gif optimization\n",
        "import imageio\n",
        "from PIL import Image, ImageDraw\n",
        "format='GIF-PIL'\n",
        "# Format - Pillow is the default!\n",
        "F = imageio.formats[\"GIF\"]\n",
        "assert F.name == \"GIF-PIL\"\n",
        "\n",
        "from pygifsicle import optimize\n",
        "import gc\n",
        "\n",
        "import scipy.constants\n",
        "import os\n",
        "\n",
        "import math\n",
        "import numpy as np"
      ],
      "execution_count": 7,
      "outputs": [
        {
          "output_type": "stream",
          "text": [
            "Reading package lists...\n",
            "Building dependency tree...\n",
            "Reading state information...\n",
            "gifsicle is already the newest version (1.91-2).\n",
            "The following package was automatically installed and is no longer required:\n",
            "  libnvidia-common-430\n",
            "Use 'apt autoremove' to remove it.\n",
            "0 upgraded, 0 newly installed, 0 to remove and 25 not upgraded.\n"
          ],
          "name": "stdout"
        }
      ]
    },
    {
      "cell_type": "code",
      "metadata": {
        "id": "mUmqjd001zoQ",
        "colab_type": "code",
        "outputId": "73963e4e-f3b7-49b1-e2fd-2755166f895f",
        "colab": {
          "base_uri": "https://localhost:8080/",
          "height": 34
        }
      },
      "source": [
        "%cd /content\n",
        "\n",
        "side = 4\n",
        "side = 8\n",
        "\n",
        "hilbert_curve = HilbertCurve(side, 2)\n",
        "forward_mapper = np.zeros((side * side), dtype='int32')\n",
        "reverse_mapper = np.zeros((side * side), dtype='int32')\n",
        "\n",
        "for ii in range(side*side):\n",
        "    coords = hilbert_curve.coordinates_from_distance(ii)\n",
        "    forward_mapper[ii] = coords[0]*side + coords[1]\n",
        "    reverse_mapper[coords[0]*side + coords[1]] = ii\n",
        "\n",
        "ints_mat = np.reshape(np.arange(side * side, dtype='int32'), (side, side))\n",
        "ints_line = np.reshape(np.arange(side * side, dtype='int32'), (1, side * side))\n",
        "ints_mapped_mat = np.reshape(reverse_mapper, (side, side))\n",
        "ints_mapped_line = np.reshape(reverse_mapper, (1, side * side))\n",
        "\n",
        "def remap(images, inverted=False):\n",
        "    side = images.shape[-1]\n",
        "            \n",
        "    # h_indexes = np.arange(0, (side * side), dtype='int32')\n",
        "    # h_indexes_inverted = np.arange(0, (side * side), dtype='int32')\n",
        "    # for index in range(side * side):\n",
        "    #     h_indexes[index] = get_reverse_index(index, side)\n",
        "    # for x in range(side):\n",
        "    #     for y in range(side):\n",
        "    #         h_indexes_inverted[x * side + y] = map.index([x, y])        \n",
        "    tiles = np.zeros((images.shape[0], side, side))\n",
        "    for i in range(images.shape[0]):\n",
        "        padded = np.reshape(np.pad(images[i], (0, side-side), mode='constant', constant_values=(0)), (side*side))\n",
        "        if not inverted:\n",
        "            tiles[i] = np.reshape(padded[forward_mapper], (side, side))\n",
        "        else:\n",
        "            tiles[i] = np.reshape(padded[reverse_mapper], (side, side))\n",
        "    return tiles"
      ],
      "execution_count": 8,
      "outputs": [
        {
          "output_type": "stream",
          "text": [
            "/content\n"
          ],
          "name": "stdout"
        }
      ]
    },
    {
      "cell_type": "code",
      "metadata": {
        "id": "53366-PNrgVP",
        "colab_type": "code",
        "colab": {}
      },
      "source": [
        "# I thought numpy had an indentity matrix func but can't find it!\n",
        "def identity(mat):\n",
        "    indexes = np.arange(0, mat.shape[1])\n",
        "    mat[indexes, indexes] = 1\n",
        "idmat = np.zeros((64, 64), dtype='float32')\n",
        "identity(idmat)\n",
        "ident_images = np.reshape(idmat, (64, 8, 8))"
      ],
      "execution_count": 0,
      "outputs": []
    },
    {
      "cell_type": "code",
      "metadata": {
        "id": "YkZx4mtvYDEU",
        "colab_type": "code",
        "colab": {}
      },
      "source": [
        "# composite current and N previous images into one image\n",
        "def sum_images(images, span=8):\n",
        "    num_frames = images.shape[0]-(span-1)\n",
        "    summed = np.zeros((num_frames, 8, 8), dtype='float32')\n",
        "    for i in range(num_frames):\n",
        "        for j in range(span):\n",
        "            summed[i] += images[i + j]\n",
        "        gray = np.max(summed[i])\n",
        "        if not math.isnan(gray):\n",
        "            summed[i] = summed[i] / gray\n",
        "    return summed\n",
        "\n",
        "# same as above but also include set of previous summations as faint echos\n",
        "def ghost_images(images, ghosts=3, shade=0.3):\n",
        "    num_frames = images.shape[0]\n",
        "    ghosted = np.zeros((num_frames, 8, 8), dtype='float32')\n",
        "    for i in range(0, num_frames):\n",
        "        for ghost in range(ghosts, -1, -1):\n",
        "            if i-ghost >= 0:\n",
        "                for r in range(images.shape[1]):\n",
        "                    for c in range(images.shape[2]):\n",
        "                        pix = images[i-ghost][r][c]\n",
        "                        if pix > 0.001:\n",
        "                            ghosted[i][r][c] = max(pix - (ghost * shade), 0)\n",
        "    return ghosted\n",
        "\n",
        "# add N copies of first and last images as lead-in and tail images \n",
        "def head_tail(frames, head, tail):\n",
        "    out = [frames[0] for x in range(head)]\n",
        "    for x in range(len(frames)):\n",
        "        out.append(frames[x])\n",
        "    for x in range(tail):\n",
        "        out.append(frames[-1])\n",
        "    return np.asarray(out, dtype='uint8')\n",
        "\n",
        "def get_centroid(frame, value=0.5):\n",
        "    side = frame.shape[0]\n",
        "    points = []\n",
        "    for r in range(side):\n",
        "        for c in range(side):\n",
        "            if frame[r][c] > value:\n",
        "                points.append([r,c])\n",
        "    if len(points) == 0:\n",
        "        return []\n",
        "    data = np.transpose(np.array(points))\n",
        "    return [np.mean(data[0]), np.mean(data[1])]\n",
        "\n",
        "def get_centroids(frames):\n",
        "    return np.array([get_centroid(frame) for frame in frames])\n"
      ],
      "execution_count": 0,
      "outputs": []
    },
    {
      "cell_type": "code",
      "metadata": {
        "id": "PZEiXtWrXjZT",
        "colab_type": "code",
        "colab": {}
      },
      "source": [
        "box_size = 16\n",
        "gap = int(((side + 1) * box_size)/scipy.constants.golden)\n",
        "head = 5\n",
        "tail = 8\n",
        "spans = 3\n",
        "\n",
        "summed_ident = sum_images(ident_images)\n",
        "summed_hilbert = sum_images(remap(ident_images, inverted=True))\n"
      ],
      "execution_count": 0,
      "outputs": []
    },
    {
      "cell_type": "code",
      "metadata": {
        "id": "1PfMosti0fFC",
        "colab_type": "code",
        "colab": {}
      },
      "source": [
        "# render checkerboard grid\n",
        "def grid(side, frame, grid_color):\n",
        "    # horz\n",
        "    for r in range(side + 1):\n",
        "        for c in range(side * box_size):\n",
        "            frame[r * box_size][c] = grid_color\n",
        "    # vert\n",
        "    for r in range(side * box_size + 1):\n",
        "        for c in range(side+ 1):\n",
        "            frame[r][c * box_size] = grid_color\n",
        "\n",
        "# expand image\n",
        "def blowup(image, size):\n",
        "    im_obj = Image.fromarray(image)\n",
        "    big = im_obj.resize((size, size))\n",
        "    return np.copy(np.asarray(big))\n",
        " \n",
        "# paste up two same-size frames side by side with a gap\n",
        "def dual_anim(image, image2, gap):\n",
        "    edge = image.shape[0]\n",
        "    shape = (image.shape[0], image.shape[1]*2 + gap)\n",
        "    frame = np.zeros(shape, dtype='uint8')\n",
        "    for r in range(edge):\n",
        "        frame[r][0:edge] = image[r][0:edge + 1]\n",
        "        frame[r][-(edge):] = image2[r][0:edge + 1]\n",
        "    return frame\n",
        "\n",
        "# turn N 8-bit numpy matrices into gif frames, movie, optimize it (1mb -> 50k)\n",
        "def animate(images, movie_file):\n",
        "    imageio.mimwrite(movie_file, images, fps=2)\n",
        "    optimize(movie_file)\n"
      ],
      "execution_count": 0,
      "outputs": []
    },
    {
      "cell_type": "code",
      "metadata": {
        "colab_type": "code",
        "id": "28BMvxBGVNzB",
        "colab": {}
      },
      "source": [
        "# draw dots and lines on rendered frame\n",
        "def scribble_dot(frame, centroid):\n",
        "    row = int(round(centroid[0]))\n",
        "    col = int(round(centroid[1]))\n",
        "    for r in [-2, -1, 0, 1, 2]:\n",
        "        for c in [-2, -1, 0, 1, 2]:\n",
        "            if abs(r) + abs(c) < 4:\n",
        "                frame[row + r][col + c] = 255\n",
        "\n",
        "def scribble_line(frame, indx, centroids):\n",
        "    def draw_line(frame, p1, p2):\n",
        "        image = Image.fromarray(frame)\n",
        "        draw = ImageDraw.Draw(image) \n",
        "        draw.line((p1[0], p1[1], p2[0], p2[1]), fill=255, width=2)\n",
        "        for r in range(frame.shape[0]):\n",
        "            for c in range(frame.shape[1]):\n",
        "                frame[r][c] = image.getpixel((c,r))\n",
        "    for i in range(indx):\n",
        "        p1 = centroids[i]\n",
        "        p2 = centroids[i+1]\n",
        "        r1 = int(round(p1[0]))\n",
        "        c1 = int(round(p1[1]))\n",
        "        r2 = int(round(p2[0]))\n",
        "        c2 = int(round(p2[1]))\n",
        "        draw_line(frame, [c1, r1], [c2, r2])"
      ],
      "execution_count": 0,
      "outputs": []
    },
    {
      "cell_type": "code",
      "metadata": {
        "id": "64bKqLIEph-A",
        "colab_type": "code",
        "colab": {}
      },
      "source": [
        "filename='walking_hilbert.gif'\n",
        "!rm -f walking_hilbert.gif"
      ],
      "execution_count": 0,
      "outputs": []
    },
    {
      "cell_type": "code",
      "metadata": {
        "id": "JvjsiKMticmK",
        "colab_type": "code",
        "colab": {}
      },
      "source": [
        "draw_ident = head_tail(summed_ident, head, tail)\n",
        "draw_hilbert = head_tail(summed_hilbert, head, tail)\n",
        "\n",
        "num_frames = draw_ident.shape[0]\n",
        "\n",
        "centroids = get_centroids(draw_hilbert)\n",
        "centroids = centroids * box_size + box_size//2\n",
        "\n",
        "gif_frames = []\n",
        "for i in range(num_frames):\n",
        "    gc.collect()\n",
        "    ident_large = blowup(draw_ident[i] * 192, box_size * side + 1)\n",
        "    hilbert_large = blowup(draw_hilbert[i] * 192, box_size * side + 1)\n",
        "    grid(side, ident_large, grid_color=252)\n",
        "    grid(side, hilbert_large, grid_color=252)\n",
        "    \n",
        "    fr = dual_anim(ident_large, hilbert_large, gap=gap)\n",
        "    gif_frames.append(fr)\n",
        "\n",
        "animate(gif_frames, filename)\n"
      ],
      "execution_count": 0,
      "outputs": []
    },
    {
      "cell_type": "code",
      "metadata": {
        "id": "9vFI7K6Tiufc",
        "colab_type": "code",
        "colab": {}
      },
      "source": [
        "!sleep 5\n",
        "from google.colab import files\n",
        "files.download(filename)"
      ],
      "execution_count": 0,
      "outputs": []
    },
    {
      "cell_type": "code",
      "metadata": {
        "id": "Dw5Dm5Mtz2Bc",
        "colab_type": "code",
        "colab": {}
      },
      "source": [
        "filename='walking_hilbert_centroids.gif'\n",
        "!rm -f walking_hilbert_centroids.gif"
      ],
      "execution_count": 0,
      "outputs": []
    },
    {
      "cell_type": "code",
      "metadata": {
        "id": "pbuQcP7Qz2LC",
        "colab_type": "code",
        "colab": {}
      },
      "source": [
        "draw_ident = head_tail(summed_ident, head, tail)\n",
        "draw_hilbert = head_tail(summed_hilbert, head, tail)\n",
        "\n",
        "num_frames = draw_ident.shape[0]\n",
        "\n",
        "centroids = get_centroids(draw_hilbert)\n",
        "centroids = centroids * box_size + box_size//2\n",
        "\n",
        "gif_frames = []\n",
        "for i in range(num_frames):\n",
        "    gc.collect()\n",
        "    ident_large = blowup(draw_ident[i] * 192, box_size * side + 1)\n",
        "    hilbert_large = blowup(draw_hilbert[i] * 192, box_size * side + 1)\n",
        "    grid(side, ident_large, grid_color=252)\n",
        "    grid(side, hilbert_large, grid_color=252)\n",
        "    scribble_dot(hilbert_large, centroids[i])\n",
        "    \n",
        "    fr = dual_anim(ident_large, hilbert_large, gap=gap)\n",
        "    gif_frames.append(fr)\n",
        "\n",
        "animate(gif_frames, filename)\n"
      ],
      "execution_count": 0,
      "outputs": []
    },
    {
      "cell_type": "code",
      "metadata": {
        "id": "ooeJPTfbz2VN",
        "colab_type": "code",
        "colab": {}
      },
      "source": [
        "!sleep 5\n",
        "from google.colab import files\n",
        "files.download(filename)"
      ],
      "execution_count": 0,
      "outputs": []
    },
    {
      "cell_type": "code",
      "metadata": {
        "id": "7RzU-Veu984y",
        "colab_type": "code",
        "outputId": "f73731e8-ba17-416a-cbb2-80033842e652",
        "colab": {
          "base_uri": "https://localhost:8080/",
          "height": 34
        }
      },
      "source": [
        "filename='walking_hilbert_centroids_ghost.gif'\n",
        "!rm -f walking_hilbert_centroids_ghost.gif\n",
        "print(np.max(summed_hilbert))"
      ],
      "execution_count": 20,
      "outputs": [
        {
          "output_type": "stream",
          "text": [
            "1.0\n"
          ],
          "name": "stdout"
        }
      ]
    },
    {
      "cell_type": "code",
      "metadata": {
        "id": "hTiHpCZn_B4X",
        "colab_type": "code",
        "colab": {}
      },
      "source": [
        "prep_ident = head_tail(summed_ident, head, tail)\n",
        "draw_hilbert = ghost_images(prep_ident, spans, shade=0.25)\n",
        "prep_hilbert = head_tail(summed_hilbert, head, tail)\n",
        "draw_hilbert = ghost_images(prep_hilbert, spans, shade=0.25)\n",
        "\n",
        "num_frames = draw_ident.shape[0]\n",
        "\n",
        "# do not get distracted by ghost cells, use prep_hilbert\n",
        "centroids = get_centroids(prep_hilbert)\n",
        "centroids = centroids * box_size + box_size//2\n",
        "\n",
        "gif_frames = []\n",
        "for i in range(num_frames):\n",
        "    gc.collect()\n",
        "    ident_large = blowup(draw_ident[i] * 192, box_size * side + 1)\n",
        "    hilbert_large = blowup(draw_hilbert[i] * 192, box_size * side + 1)\n",
        "    grid(side, ident_large, grid_color=252)\n",
        "    grid(side, hilbert_large, grid_color=252)\n",
        "    scribble_line(hilbert_large, i, centroids)\n",
        "    scribble_dot(hilbert_large, centroids[i])\n",
        "    \n",
        "    fr = dual_anim(ident_large, hilbert_large, gap=gap)\n",
        "    gif_frames.append(fr)\n",
        "\n",
        "animate(gif_frames, filename)\n"
      ],
      "execution_count": 0,
      "outputs": []
    },
    {
      "cell_type": "code",
      "metadata": {
        "id": "q3Dn9Klf_CCI",
        "colab_type": "code",
        "colab": {
          "base_uri": "https://localhost:8080/",
          "height": 345
        },
        "outputId": "a248fb35-1165-407a-c95d-2d51fe57b709"
      },
      "source": [
        "!sleep 5\n",
        "from google.colab import files\n",
        "files.download(filename)"
      ],
      "execution_count": 22,
      "outputs": [
        {
          "output_type": "error",
          "ename": "KeyboardInterrupt",
          "evalue": "ignored",
          "traceback": [
            "\u001b[0;31m---------------------------------------------------------------------------\u001b[0m",
            "\u001b[0;31mKeyboardInterrupt\u001b[0m                         Traceback (most recent call last)",
            "\u001b[0;32m<ipython-input-22-3b70740bedb5>\u001b[0m in \u001b[0;36m<module>\u001b[0;34m()\u001b[0m\n\u001b[1;32m      1\u001b[0m \u001b[0mget_ipython\u001b[0m\u001b[0;34m(\u001b[0m\u001b[0;34m)\u001b[0m\u001b[0;34m.\u001b[0m\u001b[0msystem\u001b[0m\u001b[0;34m(\u001b[0m\u001b[0;34m'sleep 5'\u001b[0m\u001b[0;34m)\u001b[0m\u001b[0;34m\u001b[0m\u001b[0;34m\u001b[0m\u001b[0m\n\u001b[1;32m      2\u001b[0m \u001b[0;32mfrom\u001b[0m \u001b[0mgoogle\u001b[0m\u001b[0;34m.\u001b[0m\u001b[0mcolab\u001b[0m \u001b[0;32mimport\u001b[0m \u001b[0mfiles\u001b[0m\u001b[0;34m\u001b[0m\u001b[0;34m\u001b[0m\u001b[0m\n\u001b[0;32m----> 3\u001b[0;31m \u001b[0mfiles\u001b[0m\u001b[0;34m.\u001b[0m\u001b[0mdownload\u001b[0m\u001b[0;34m(\u001b[0m\u001b[0mfilename\u001b[0m\u001b[0;34m)\u001b[0m\u001b[0;34m\u001b[0m\u001b[0;34m\u001b[0m\u001b[0m\n\u001b[0m",
            "\u001b[0;32m/usr/local/lib/python3.6/dist-packages/google/colab/files.py\u001b[0m in \u001b[0;36mdownload\u001b[0;34m(filename)\u001b[0m\n\u001b[1;32m    176\u001b[0m       \u001b[0;34m'port'\u001b[0m\u001b[0;34m:\u001b[0m \u001b[0mport\u001b[0m\u001b[0;34m,\u001b[0m\u001b[0;34m\u001b[0m\u001b[0;34m\u001b[0m\u001b[0m\n\u001b[1;32m    177\u001b[0m       \u001b[0;34m'path'\u001b[0m\u001b[0;34m:\u001b[0m \u001b[0m_os\u001b[0m\u001b[0;34m.\u001b[0m\u001b[0mpath\u001b[0m\u001b[0;34m.\u001b[0m\u001b[0mabspath\u001b[0m\u001b[0;34m(\u001b[0m\u001b[0mfilename\u001b[0m\u001b[0;34m)\u001b[0m\u001b[0;34m,\u001b[0m\u001b[0;34m\u001b[0m\u001b[0;34m\u001b[0m\u001b[0m\n\u001b[0;32m--> 178\u001b[0;31m       \u001b[0;34m'name'\u001b[0m\u001b[0;34m:\u001b[0m \u001b[0m_os\u001b[0m\u001b[0;34m.\u001b[0m\u001b[0mpath\u001b[0m\u001b[0;34m.\u001b[0m\u001b[0mbasename\u001b[0m\u001b[0;34m(\u001b[0m\u001b[0mfilename\u001b[0m\u001b[0;34m)\u001b[0m\u001b[0;34m,\u001b[0m\u001b[0;34m\u001b[0m\u001b[0;34m\u001b[0m\u001b[0m\n\u001b[0m\u001b[1;32m    179\u001b[0m   })\n",
            "\u001b[0;32m/usr/local/lib/python3.6/dist-packages/google/colab/output/_js.py\u001b[0m in \u001b[0;36meval_js\u001b[0;34m(script, ignore_result)\u001b[0m\n\u001b[1;32m     37\u001b[0m   \u001b[0;32mif\u001b[0m \u001b[0mignore_result\u001b[0m\u001b[0;34m:\u001b[0m\u001b[0;34m\u001b[0m\u001b[0;34m\u001b[0m\u001b[0m\n\u001b[1;32m     38\u001b[0m     \u001b[0;32mreturn\u001b[0m\u001b[0;34m\u001b[0m\u001b[0;34m\u001b[0m\u001b[0m\n\u001b[0;32m---> 39\u001b[0;31m   \u001b[0;32mreturn\u001b[0m \u001b[0m_message\u001b[0m\u001b[0;34m.\u001b[0m\u001b[0mread_reply_from_input\u001b[0m\u001b[0;34m(\u001b[0m\u001b[0mrequest_id\u001b[0m\u001b[0;34m)\u001b[0m\u001b[0;34m\u001b[0m\u001b[0;34m\u001b[0m\u001b[0m\n\u001b[0m\u001b[1;32m     40\u001b[0m \u001b[0;34m\u001b[0m\u001b[0m\n\u001b[1;32m     41\u001b[0m \u001b[0;34m\u001b[0m\u001b[0m\n",
            "\u001b[0;32m/usr/local/lib/python3.6/dist-packages/google/colab/_message.py\u001b[0m in \u001b[0;36mread_reply_from_input\u001b[0;34m(message_id, timeout_sec)\u001b[0m\n\u001b[1;32m     99\u001b[0m     \u001b[0mreply\u001b[0m \u001b[0;34m=\u001b[0m \u001b[0m_read_next_input_message\u001b[0m\u001b[0;34m(\u001b[0m\u001b[0;34m)\u001b[0m\u001b[0;34m\u001b[0m\u001b[0;34m\u001b[0m\u001b[0m\n\u001b[1;32m    100\u001b[0m     \u001b[0;32mif\u001b[0m \u001b[0mreply\u001b[0m \u001b[0;34m==\u001b[0m \u001b[0m_NOT_READY\u001b[0m \u001b[0;32mor\u001b[0m \u001b[0;32mnot\u001b[0m \u001b[0misinstance\u001b[0m\u001b[0;34m(\u001b[0m\u001b[0mreply\u001b[0m\u001b[0;34m,\u001b[0m \u001b[0mdict\u001b[0m\u001b[0;34m)\u001b[0m\u001b[0;34m:\u001b[0m\u001b[0;34m\u001b[0m\u001b[0;34m\u001b[0m\u001b[0m\n\u001b[0;32m--> 101\u001b[0;31m       \u001b[0mtime\u001b[0m\u001b[0;34m.\u001b[0m\u001b[0msleep\u001b[0m\u001b[0;34m(\u001b[0m\u001b[0;36m0.025\u001b[0m\u001b[0;34m)\u001b[0m\u001b[0;34m\u001b[0m\u001b[0;34m\u001b[0m\u001b[0m\n\u001b[0m\u001b[1;32m    102\u001b[0m       \u001b[0;32mcontinue\u001b[0m\u001b[0;34m\u001b[0m\u001b[0;34m\u001b[0m\u001b[0m\n\u001b[1;32m    103\u001b[0m     if (reply.get('type') == 'colab_reply' and\n",
            "\u001b[0;31mKeyboardInterrupt\u001b[0m: "
          ]
        }
      ]
    },
    {
      "cell_type": "code",
      "metadata": {
        "id": "PppMpCM_LSK2",
        "colab_type": "code",
        "colab": {}
      },
      "source": [
        ""
      ],
      "execution_count": 0,
      "outputs": []
    }
  ]
}